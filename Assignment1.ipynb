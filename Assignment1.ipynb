{
  "nbformat": 4,
  "nbformat_minor": 0,
  "metadata": {
    "colab": {
      "name": "Welcome To Colaboratory",
      "provenance": [],
      "collapsed_sections": [],
      "toc_visible": true,
      "include_colab_link": true
    },
    "kernelspec": {
      "display_name": "Python 3",
      "name": "python3"
    }
  },
  "cells": [
    {
      "cell_type": "markdown",
      "metadata": {
        "id": "view-in-github",
        "colab_type": "text"
      },
      "source": [
        "<a href=\"https://colab.research.google.com/github/SHADAMAKINIKHITHA/Myfirstproject/blob/master/Assignment1.ipynb\" target=\"_parent\"><img src=\"https://colab.research.google.com/assets/colab-badge.svg\" alt=\"Open In Colab\"/></a>"
      ]
    },
    {
      "cell_type": "code",
      "metadata": {
        "id": "j7DSl1x0u6Em",
        "colab_type": "code",
        "colab": {}
      },
      "source": [
        ""
      ],
      "execution_count": null,
      "outputs": []
    },
    {
      "cell_type": "code",
      "metadata": {
        "id": "sHlQJwwjvHtx",
        "colab_type": "code",
        "colab": {
          "base_uri": "https://localhost:8080/",
          "height": 67
        },
        "outputId": "51ba0c4d-e6ad-4ebe-f5b0-8984b3307c6f"
      },
      "source": [
        "year=int(input(\"Enter year:\"))\n",
        "print(year)\n",
        "b=year%12\n",
        "i=0;\n",
        "if(b==0):\n",
        "  print(\"monkey\")\n",
        "elif(b==1):\n",
        "  print(\"rooster\")\n",
        "elif(b==2):\n",
        "  print(\"dog\") \n",
        "elif(b==3):\n",
        "  print(\"pig\")\n",
        "elif(b==4):\n",
        "  print(\"rat\")\n",
        "elif(b==5):\n",
        "  print(\"ox\")\n",
        "elif(b==6):\n",
        "  print(\"tiger\")\n",
        "elif(b==7):\n",
        "  print(\"rabbit\")\n",
        "elif(b==8):\n",
        "  print(\"dragon\")\n",
        "elif(b==9):\n",
        "  print(\"snake\")\n",
        "elif(b==10):\n",
        "  print(\"horse\")\n",
        "elif(b==11):\n",
        "  print(\"sheep\")"
      ],
      "execution_count": 14,
      "outputs": [
        {
          "output_type": "stream",
          "text": [
            "Enter year:1897\n",
            "1897\n",
            "rooster\n"
          ],
          "name": "stdout"
        }
      ]
    },
    {
      "cell_type": "markdown",
      "metadata": {
        "id": "EVEOT_9DowPH",
        "colab_type": "text"
      },
      "source": [
        ""
      ]
    },
    {
      "cell_type": "code",
      "metadata": {
        "id": "iEDlYHPj3nDu",
        "colab_type": "code",
        "colab": {
          "base_uri": "https://localhost:8080/",
          "height": 67
        },
        "outputId": "56665322-4a6a-4706-e634-777e8348a2dd"
      },
      "source": [
        "seat=input(\"Type of Seat\")\n",
        "pay=input(\"Payment mode\")\n",
        "if(seat=='stalls' and pay=='cash'):\n",
        "  print(625-(625*10/100))\n",
        "elif(seat=='stalls' and pay=='credit card'):\n",
        "  print(625-(625*5/100))\n",
        "elif(seat=='circle' and pay=='cash'):\n",
        "  print(750-(750*10/100))\n",
        "elif(seat=='circle' and pay=='credit card'):\n",
        "  print(750-(750*5/100))\n",
        "elif(seat=='upper class' and pay=='cash'):\n",
        "  print(850-(850*10/100))\n",
        "elif(seat=='upper class' and pay=='credit card'):\n",
        "  print(850-(850*5/100))\n",
        "elif(seat=='Box' and pay=='cash'):\n",
        "  print(1000-(1000*10/100))\n",
        "elif(seat=='Box' and pay=='credit card'):\n",
        "  print(1000-(1000*5/100))"
      ],
      "execution_count": 20,
      "outputs": [
        {
          "output_type": "stream",
          "text": [
            "Type of Seatcircle\n",
            "Payment modecash\n",
            "675.0\n"
          ],
          "name": "stdout"
        }
      ]
    },
    {
      "cell_type": "code",
      "metadata": {
        "id": "NmMdU6Lc9xmW",
        "colab_type": "code",
        "colab": {
          "base_uri": "https://localhost:8080/",
          "height": 84
        },
        "outputId": "4b2b8137-f91d-4409-ad16-0fd2f9fbca60"
      },
      "source": [
        "amount=int(input(\"Amount of water in kilograms :\"))\n",
        "it=int(input(\"Enter initial temperature :\"))\n",
        "ft=int(input(\"Enter final temperature :\"))\n",
        "e=amount*(ft-it)*4184\n",
        "print(e)"
      ],
      "execution_count": 106,
      "outputs": [
        {
          "output_type": "stream",
          "text": [
            "Amount of water in kilograms :30\n",
            "Enter initial temperature :10\n",
            "Enter final temperature :25\n",
            "1882800\n"
          ],
          "name": "stdout"
        }
      ]
    },
    {
      "cell_type": "code",
      "metadata": {
        "id": "czf5r5bj_qJX",
        "colab_type": "code",
        "colab": {
          "base_uri": "https://localhost:8080/",
          "height": 50
        },
        "outputId": "9c132347-d8b5-4234-d104-085cf7f378f0"
      },
      "source": [
        "month=input(\"enter the month:\")\n",
        "if(month=='december' or month=='january' or month=='february'):\n",
        "  print(\"Winter\")\n",
        "elif(month=='march' or month=='april' or month=='may'):\n",
        "  print(\"Spring\")\n",
        "elif(month=='june' or month=='july' or month=='august'):\n",
        "  print(\"summer\")\n",
        "else:\n",
        "  print(\"Autumn\")"
      ],
      "execution_count": 26,
      "outputs": [
        {
          "output_type": "stream",
          "text": [
            "enter the month:august\n",
            "summer\n"
          ],
          "name": "stdout"
        }
      ]
    },
    {
      "cell_type": "markdown",
      "metadata": {
        "id": "62I9u6ZDCc6n",
        "colab_type": "text"
      },
      "source": [
        ""
      ]
    },
    {
      "cell_type": "code",
      "metadata": {
        "id": "R96CNp5tByFD",
        "colab_type": "code",
        "colab": {
          "base_uri": "https://localhost:8080/",
          "height": 67
        },
        "outputId": "efd91c91-61a6-4ed1-a0f4-c7d1ab03c95d"
      },
      "source": [
        "w=int(input(\"enter your weight in pounds :\"))\n",
        "h=float(input(\"enter height in inches :\"))\n",
        "bmi=(w*0.45359237)/(h*h*0.0254*0.0254)\n",
        "if(bmi<18.5):\n",
        "  print(\"underweight\")\n",
        "elif(18.5<=bmi<25.0):\n",
        "  print(\"normal\")\n",
        "elif(25.0<=bmi<30.0):\n",
        "  print(\"Overweight\")\n",
        "elif(30.0<=bmi):\n",
        "  print(\"obese\")"
      ],
      "execution_count": 103,
      "outputs": [
        {
          "output_type": "stream",
          "text": [
            "enter your weight in pounds :154\n",
            "enter height in inches :67\n",
            "normal\n"
          ],
          "name": "stdout"
        }
      ]
    },
    {
      "cell_type": "code",
      "metadata": {
        "id": "JxLz1mxWGu-t",
        "colab_type": "code",
        "colab": {
          "base_uri": "https://localhost:8080/",
          "height": 50
        },
        "outputId": "7065b326-b661-473d-f887-2bb944cf0017"
      },
      "source": [
        "read=int(input(\"enter integer between 100 to 1000 :\"))\n",
        "add=0;\n",
        "if(100<=read<1000):\n",
        "  for i in str(read):\n",
        "    r=int(read%10)\n",
        "    add=add+r\n",
        "    read=read/10\n",
        "  print(add)\n",
        "else:\n",
        "  print(\"Enter number between 100 to 1000\")\n"
      ],
      "execution_count": 46,
      "outputs": [
        {
          "output_type": "stream",
          "text": [
            "enter integer between 100 to 1000 :811\n",
            "10\n"
          ],
          "name": "stdout"
        }
      ]
    },
    {
      "cell_type": "code",
      "metadata": {
        "id": "1UUC2k5bKxAn",
        "colab_type": "code",
        "colab": {
          "base_uri": "https://localhost:8080/",
          "height": 1000
        },
        "outputId": "574924d5-9bf7-419d-c3d2-d89231e5a191"
      },
      "source": [
        "print(\"Pallindromes are:\")\n",
        "num=1000\n",
        "for i in range(1,num):\n",
        "  a=0\n",
        "  p=i\n",
        "  while p>0:\n",
        "    r=p%10\n",
        "    a=(a*10)+r\n",
        "    p=p//10\n",
        "  if i==a:\n",
        "    print(i)\n"
      ],
      "execution_count": 78,
      "outputs": [
        {
          "output_type": "stream",
          "text": [
            "Pallindromes are:\n",
            "1\n",
            "2\n",
            "3\n",
            "4\n",
            "5\n",
            "6\n",
            "7\n",
            "8\n",
            "9\n",
            "11\n",
            "22\n",
            "33\n",
            "44\n",
            "55\n",
            "66\n",
            "77\n",
            "88\n",
            "99\n",
            "101\n",
            "111\n",
            "121\n",
            "131\n",
            "141\n",
            "151\n",
            "161\n",
            "171\n",
            "181\n",
            "191\n",
            "202\n",
            "212\n",
            "222\n",
            "232\n",
            "242\n",
            "252\n",
            "262\n",
            "272\n",
            "282\n",
            "292\n",
            "303\n",
            "313\n",
            "323\n",
            "333\n",
            "343\n",
            "353\n",
            "363\n",
            "373\n",
            "383\n",
            "393\n",
            "404\n",
            "414\n",
            "424\n",
            "434\n",
            "444\n",
            "454\n",
            "464\n",
            "474\n",
            "484\n",
            "494\n",
            "505\n",
            "515\n",
            "525\n",
            "535\n",
            "545\n",
            "555\n",
            "565\n",
            "575\n",
            "585\n",
            "595\n",
            "606\n",
            "616\n",
            "626\n",
            "636\n",
            "646\n",
            "656\n",
            "666\n",
            "676\n",
            "686\n",
            "696\n",
            "707\n",
            "717\n",
            "727\n",
            "737\n",
            "747\n",
            "757\n",
            "767\n",
            "777\n",
            "787\n",
            "797\n",
            "808\n",
            "818\n",
            "828\n",
            "838\n",
            "848\n",
            "858\n",
            "868\n",
            "878\n",
            "888\n",
            "898\n",
            "909\n",
            "919\n",
            "929\n",
            "939\n",
            "949\n",
            "959\n",
            "969\n",
            "979\n",
            "989\n",
            "999\n"
          ],
          "name": "stdout"
        }
      ]
    },
    {
      "cell_type": "code",
      "metadata": {
        "id": "KdzeFYp5N2bl",
        "colab_type": "code",
        "colab": {
          "base_uri": "https://localhost:8080/",
          "height": 118
        },
        "outputId": "d07af329-a228-4425-e371-8e591cfd30e2"
      },
      "source": [
        "print(\"Amstrong numbers are:\")\n",
        "num=1000\n",
        "for i in range(1,num):\n",
        "  a=0\n",
        "  p=i\n",
        "  while p>0:\n",
        "    r=p%10\n",
        "    a=a+r**3\n",
        "    p=p//10\n",
        "  if i==a:\n",
        "    print(i)"
      ],
      "execution_count": 87,
      "outputs": [
        {
          "output_type": "stream",
          "text": [
            "Amstrong numbers are:\n",
            "1\n",
            "153\n",
            "370\n",
            "371\n",
            "407\n"
          ],
          "name": "stdout"
        }
      ]
    },
    {
      "cell_type": "code",
      "metadata": {
        "id": "dK8DJRAIaN0V",
        "colab_type": "code",
        "colab": {
          "base_uri": "https://localhost:8080/",
          "height": 84
        },
        "outputId": "24a25c73-915b-4bd2-f097-dc6abd0f01c4"
      },
      "source": [
        "dis=int(input(\"Distance to be travel :\"))\n",
        "w=int(input(\"Weight of the goods :\"))\n",
        "if(dis>=500):\n",
        "  if(w>=100):\n",
        "    r=5\n",
        "  elif(w>=10 and w<100):\n",
        "    r=6\n",
        "  elif(w<10):\n",
        "    r=7\n",
        "if(dis<500):\n",
        "  if(w>=100):\n",
        "    r=8\n",
        "  elif(w<100):\n",
        "    r=5\n",
        "print(\"Amount to be charged :\")\n",
        "print(dis*r)"
      ],
      "execution_count": 91,
      "outputs": [
        {
          "output_type": "stream",
          "text": [
            "Distance to be travel :250\n",
            "Weight of the goods :50\n",
            "Amount to be charged :\n",
            "1250\n"
          ],
          "name": "stdout"
        }
      ]
    },
    {
      "cell_type": "code",
      "metadata": {
        "id": "0Qj1NFPqfuSy",
        "colab_type": "code",
        "colab": {
          "base_uri": "https://localhost:8080/",
          "height": 84
        },
        "outputId": "4c966a54-b6f7-4c75-b5c1-6c84f50780e0"
      },
      "source": [
        "h=int(input(\"Enter height of the well :\"))\n",
        "u=int(input(\"Enter the height up to which spider climbs:\"))\n",
        "d=int(input(\"Enter the height up to which spider slips :\"))\n",
        "if d>=u:\n",
        "  print(\"-1\")\n",
        "elif h<=u:\n",
        "  print(\"1\")\n",
        "else:\n",
        "  steps=(h-u)//(u-d)\n",
        "  steps=steps+2\n",
        "print(steps)"
      ],
      "execution_count": 99,
      "outputs": [
        {
          "output_type": "stream",
          "text": [
            "Enter height of the well :200\n",
            "Enter the height up to which spider climbs:50\n",
            "Enter the height up to which spider slips :1\n",
            "5\n"
          ],
          "name": "stdout"
        }
      ]
    },
    {
      "cell_type": "code",
      "metadata": {
        "id": "U5h5QLcLRig4",
        "colab_type": "code",
        "colab": {
          "base_uri": "https://localhost:8080/",
          "height": 1000
        },
        "outputId": "742f0919-c05e-40fa-fe92-03bd53aa6ea6"
      },
      "source": [
        "for i in range(1,100):\n",
        "  if(i%3==0 and i%5==0):\n",
        "    print(\"fizz buzz\")\n",
        "  elif i%3==0:\n",
        "    print(\"fizz\")\n",
        "  elif i%5==0:\n",
        "    print(\"buzz\")\n",
        "  else:\n",
        "    print(i)"
      ],
      "execution_count": 86,
      "outputs": [
        {
          "output_type": "stream",
          "text": [
            "1\n",
            "2\n",
            "fizz\n",
            "4\n",
            "buzz\n",
            "fizz\n",
            "7\n",
            "8\n",
            "fizz\n",
            "buzz\n",
            "11\n",
            "fizz\n",
            "13\n",
            "14\n",
            "fizz buzz\n",
            "16\n",
            "17\n",
            "fizz\n",
            "19\n",
            "buzz\n",
            "fizz\n",
            "22\n",
            "23\n",
            "fizz\n",
            "buzz\n",
            "26\n",
            "fizz\n",
            "28\n",
            "29\n",
            "fizz buzz\n",
            "31\n",
            "32\n",
            "fizz\n",
            "34\n",
            "buzz\n",
            "fizz\n",
            "37\n",
            "38\n",
            "fizz\n",
            "buzz\n",
            "41\n",
            "fizz\n",
            "43\n",
            "44\n",
            "fizz buzz\n",
            "46\n",
            "47\n",
            "fizz\n",
            "49\n",
            "buzz\n",
            "fizz\n",
            "52\n",
            "53\n",
            "fizz\n",
            "buzz\n",
            "56\n",
            "fizz\n",
            "58\n",
            "59\n",
            "fizz buzz\n",
            "61\n",
            "62\n",
            "fizz\n",
            "64\n",
            "buzz\n",
            "fizz\n",
            "67\n",
            "68\n",
            "fizz\n",
            "buzz\n",
            "71\n",
            "fizz\n",
            "73\n",
            "74\n",
            "fizz buzz\n",
            "76\n",
            "77\n",
            "fizz\n",
            "79\n",
            "buzz\n",
            "fizz\n",
            "82\n",
            "83\n",
            "fizz\n",
            "buzz\n",
            "86\n",
            "fizz\n",
            "88\n",
            "89\n",
            "fizz buzz\n",
            "91\n",
            "92\n",
            "fizz\n",
            "94\n",
            "buzz\n",
            "fizz\n",
            "97\n",
            "98\n",
            "fizz\n"
          ],
          "name": "stdout"
        }
      ]
    },
    {
      "cell_type": "markdown",
      "metadata": {
        "id": "oZmusHnR0L3Y",
        "colab_type": "text"
      },
      "source": [
        ""
      ]
    }
  ]
}