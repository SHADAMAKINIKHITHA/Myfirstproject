{
  "nbformat": 4,
  "nbformat_minor": 0,
  "metadata": {
    "colab": {
      "name": "Untitled0.ipynb",
      "provenance": [],
      "collapsed_sections": [],
      "authorship_tag": "ABX9TyMWXaa9YQcESUjA3pTzoghe",
      "include_colab_link": true
    },
    "kernelspec": {
      "name": "python3",
      "display_name": "Python 3"
    }
  },
  "cells": [
    {
      "cell_type": "markdown",
      "metadata": {
        "id": "view-in-github",
        "colab_type": "text"
      },
      "source": [
        "<a href=\"https://colab.research.google.com/github/SHADAMAKINIKHITHA/Myfirstproject/blob/master/Assignment2.ipynb\" target=\"_parent\"><img src=\"https://colab.research.google.com/assets/colab-badge.svg\" alt=\"Open In Colab\"/></a>"
      ]
    },
    {
      "cell_type": "code",
      "metadata": {
        "id": "UIFZr_yPuk8o",
        "colab_type": "code",
        "colab": {
          "base_uri": "https://localhost:8080/",
          "height": 151
        },
        "outputId": "21420456-9716-4a9c-cbec-ab6eb78cf22d"
      },
      "source": [
        "print(\"Caliculating Area of Triangle:\")\n",
        "a=int(input(print(\"Enter 1st side:\")))\n",
        "b=int(input(print(\"Enter 2nd side:\")))\n",
        "c=int(input(print(\"Enter 3rd side:\")))\n",
        "if(a+b>c):\n",
        "  s=(a+b+c)/2\n",
        "  area=(s*(s-a)*(s-b)*(s-c))**0.5\n",
        "  print(\"Area of Triangle:\",area)\n",
        "else:\n",
        "  print(\"To form a triangle sum of two sides should be greater than third side\")"
      ],
      "execution_count": 8,
      "outputs": [
        {
          "output_type": "stream",
          "text": [
            "Caliculating Area of Triangle:\n",
            "Enter 1st side:\n",
            "5\n",
            "Enter 2nd side:\n",
            "6\n",
            "Enter 3rd side:\n",
            "4\n",
            "Area of Triangle: 9.921567416492215\n"
          ],
          "name": "stdout"
        }
      ]
    },
    {
      "cell_type": "code",
      "metadata": {
        "id": "LntRlCx62Z_1",
        "colab_type": "code",
        "colab": {
          "base_uri": "https://localhost:8080/",
          "height": 67
        },
        "outputId": "4edc2fc3-43f2-45f3-8426-c59873f2bb0c"
      },
      "source": [
        "string=input(print(\"Enter String\"))\n",
        "output=string.replace(' ','-')\n",
        "print(output)"
      ],
      "execution_count": null,
      "outputs": [
        {
          "output_type": "stream",
          "text": [
            "Enter String\n",
            "hi!! how are you\n",
            "hi!!-how-are-you\n"
          ],
          "name": "stdout"
        }
      ]
    },
    {
      "cell_type": "code",
      "metadata": {
        "id": "Ng7W1qOg3S_O",
        "colab_type": "code",
        "colab": {
          "base_uri": "https://localhost:8080/",
          "height": 67
        },
        "outputId": "db63b400-b9d6-44aa-8fb0-24a6e9eb55c4"
      },
      "source": [
        "s=input(print(\"Enter String\"))\n",
        "if s==s[ ::-1]:\n",
        "   print(s,\"is Pallindrome\")\n",
        "else:\n",
        "  print(s,\" is not a pallindrome\")"
      ],
      "execution_count": null,
      "outputs": [
        {
          "output_type": "stream",
          "text": [
            "Enter String\n",
            "malayalam\n",
            "malayalam  is Pallindrome\n"
          ],
          "name": "stdout"
        }
      ]
    },
    {
      "cell_type": "code",
      "metadata": {
        "id": "W8LGQvMpqMTS",
        "colab_type": "code",
        "colab": {
          "base_uri": "https://localhost:8080/",
          "height": 67
        },
        "outputId": "80eba24e-e809-4498-e3bc-e46b6843aa54"
      },
      "source": [
        "input_data=input(print(\"Enter sentence with comma as the sequence!-\"))\n",
        "colors=[color for color in input_data.split(\",\")]\n",
        "print(\",\".join(sorted(list(set(colors)))))"
      ],
      "execution_count": null,
      "outputs": [
        {
          "output_type": "stream",
          "text": [
            "Enter sentence with comma as the sequence!-\n",
            "orange,white,red,cyan,green,magenta,cyan,pink,white\n",
            "cyan,green,magenta,orange,pink,red,white\n"
          ],
          "name": "stdout"
        }
      ]
    },
    {
      "cell_type": "code",
      "metadata": {
        "id": "G8SSEZCBq5Wp",
        "colab_type": "code",
        "colab": {
          "base_uri": "https://localhost:8080/",
          "height": 50
        },
        "outputId": "8f7e1666-2382-4beb-c516-77ccfa6c1c96"
      },
      "source": [
        "year=int(input(\"Enter any Year:\"))\n",
        "if(year%4==0 or year%400==0 and year%100!=0):\n",
        "  print(year,\"is a leap year\")\n",
        "else:\n",
        "  print(year,\"is not a leap year\")"
      ],
      "execution_count": null,
      "outputs": [
        {
          "output_type": "stream",
          "text": [
            "Enter any Year:2016\n",
            "2016 is a leap year\n"
          ],
          "name": "stdout"
        }
      ]
    },
    {
      "cell_type": "code",
      "metadata": {
        "id": "GRC7mC26tBbC",
        "colab_type": "code",
        "colab": {
          "base_uri": "https://localhost:8080/",
          "height": 84
        },
        "outputId": "0c5250cc-ad38-4d7b-9697-69edd4eb163e"
      },
      "source": [
        "salary=int(input(print(\"Enter monthly salary:\")))\n",
        "if(salary<=250000):\n",
        "  print(\"TAX : NILL\")\n",
        "elif 250001<salary<500000:\n",
        "  print(\"TAX : 5 percent\")\n",
        "  amount=(salary*5)/100\n",
        "  print(\"Amount to be paid is:\",amount)\n",
        "elif 500001<salary<750000:\n",
        "  print(\"TAX : 10 percent\")\n",
        "  amount=(salary*10)/100\n",
        "  print(\"Amount to be paid is:\",amount)\n",
        "elif 750001<salary<1000000:\n",
        "  print(\"TAX : 15 percent\")\n",
        "  amount=(salary*15)/100\n",
        "  print(\"Amount to be paid is:\",amount)\n",
        "elif 1000001<salary<1250000:\n",
        "  print(\"TAX : 20 percent\")\n",
        "  amount=(salary*20)/100\n",
        "  print(\"Amount to be paid is:\",amount)\n",
        "elif 1250001<salary<1500000:\n",
        "  print(\"TAX : 25 percent\")\n",
        "  amount=(salary*25)/100\n",
        "  print(\"Amount to be paid is:\",amount)\n",
        "elif salary>1500000:\n",
        "  print(\"TAX : 30 percent\")\n",
        "  amount=(salary*30)/100\n",
        "  print(\"Amount to be paid is:\",amount)"
      ],
      "execution_count": null,
      "outputs": [
        {
          "output_type": "stream",
          "text": [
            "Enter monthly salary:\n",
            "1100000\n",
            "TAX : 20 percent\n",
            "Amount to be paid is: 220000.0\n"
          ],
          "name": "stdout"
        }
      ]
    },
    {
      "cell_type": "code",
      "metadata": {
        "id": "KUmvcFa917G5",
        "colab_type": "code",
        "colab": {
          "base_uri": "https://localhost:8080/",
          "height": 168
        },
        "outputId": "c123cee7-a4e7-4056-9c09-deccb2b70f87"
      },
      "source": [
        "days=int(input(print(\"Enter no of days :\")))\n",
        "hrs=int(input(print(\"Enter no of hours :\")))\n",
        "mins=int(input(print(\"Enter no of minutes :\")))\n",
        "secs=int(input(print(\"Enter no of seconds :\")))\n",
        "ds=days*86400\n",
        "hs=hrs*3600\n",
        "ms=mins*60\n",
        "ss=secs*1\n",
        "total_sec=ds+hs+ms+secs\n",
        "print(\"total no of seconds :\",total_sec)"
      ],
      "execution_count": null,
      "outputs": [
        {
          "output_type": "stream",
          "text": [
            "Enter no of days :\n",
            "1\n",
            "Enter no of hours :\n",
            "2\n",
            "Enter no of minutes :\n",
            "26\n",
            "Enter no of seconds :\n",
            "45\n",
            "total no of seconds : 95205\n"
          ],
          "name": "stdout"
        }
      ]
    },
    {
      "cell_type": "code",
      "metadata": {
        "id": "GVJzcPuqP95P",
        "colab_type": "code",
        "colab": {}
      },
      "source": [
        "def Sorted_list(a,b,c):\n",
        "  max1=max(a,max(b,c))\n",
        "  min1=min(a,min(b,c))\n",
        "  mid=(a+b+c)-(max1+min1)\n",
        "  print(min1,\" \",mid,\" \",max1)"
      ],
      "execution_count": null,
      "outputs": []
    },
    {
      "cell_type": "code",
      "metadata": {
        "id": "E9Uo5-qa0yPT",
        "colab_type": "code",
        "colab": {
          "base_uri": "https://localhost:8080/",
          "height": 34
        },
        "outputId": "d9d6afa9-ea07-4e43-fc50-3ceb16f84580"
      },
      "source": [
        "Sorted_list(387,373,19)"
      ],
      "execution_count": null,
      "outputs": [
        {
          "output_type": "stream",
          "text": [
            "19   373   387\n"
          ],
          "name": "stdout"
        }
      ]
    },
    {
      "cell_type": "code",
      "metadata": {
        "id": "t6hUuQPEuCza",
        "colab_type": "code",
        "colab": {
          "base_uri": "https://localhost:8080/",
          "height": 34
        },
        "outputId": "76cb6a67-0736-4aa8-c1f5-88a2fe603bd3"
      },
      "source": [
        "List=[45,3,2,89,72,1,10,7]\n",
        "product=1\n",
        "for i in range(0,len(List),1):\n",
        "  product=product*List[i]\n",
        "print(product)"
      ],
      "execution_count": 16,
      "outputs": [
        {
          "output_type": "stream",
          "text": [
            "121111200\n"
          ],
          "name": "stdout"
        }
      ]
    },
    {
      "cell_type": "code",
      "metadata": {
        "id": "QCNRaHxwwkfm",
        "colab_type": "code",
        "colab": {
          "base_uri": "https://localhost:8080/",
          "height": 34
        },
        "outputId": "ea2ac69f-7b17-4a53-eb22-32e6bd258f3f"
      },
      "source": [
        "Num_list =  [5, 6,8 ,34,89,1] \n",
        "Out_list=[]\n",
        "for i in range(0,len(Num_list)-1,1):\n",
        "  x=Num_list[i]+Num_list[i+1]\n",
        "  Out_list.append(x)\n",
        "print(Out_list)"
      ],
      "execution_count": 23,
      "outputs": [
        {
          "output_type": "stream",
          "text": [
            "[11, 14, 42, 123, 90]\n"
          ],
          "name": "stdout"
        }
      ]
    },
    {
      "cell_type": "code",
      "metadata": {
        "id": "3uyLKRGnxxjY",
        "colab_type": "code",
        "colab": {
          "base_uri": "https://localhost:8080/",
          "height": 50
        },
        "outputId": "b8b1b978-3964-4932-e014-f760cba462d7"
      },
      "source": [
        "Num_tuple =  (5, 6,8 ,3,9,1) \n",
        "List2=list(Num_tuple)\n",
        "print(List2)\n",
        "List1=[]\n",
        "x=List2[0]\n",
        "List1.append(List2[0])\n",
        "for i in range(0,len(List2)-1,1):\n",
        "  x=x*List2[i+1]\n",
        "  List1.append(x)\n",
        "print(List1)"
      ],
      "execution_count": 37,
      "outputs": [
        {
          "output_type": "stream",
          "text": [
            "[5, 6, 8, 3, 9, 1]\n",
            "[5, 30, 240, 720, 6480, 6480]\n"
          ],
          "name": "stdout"
        }
      ]
    },
    {
      "cell_type": "code",
      "metadata": {
        "id": "xvboYa252maJ",
        "colab_type": "code",
        "colab": {
          "base_uri": "https://localhost:8080/",
          "height": 67
        },
        "outputId": "f628fdfb-670c-4b68-cd3e-7a1d13ada2f1"
      },
      "source": [
        "number=input(print(\"Enter Number :\"))\n",
        "Output_List=list(number)\n",
        "print(Output_List)"
      ],
      "execution_count": 40,
      "outputs": [
        {
          "output_type": "stream",
          "text": [
            "Enter Number :\n",
            "24645\n",
            "['2', '4', '6', '4', '5']\n"
          ],
          "name": "stdout"
        }
      ]
    },
    {
      "cell_type": "code",
      "metadata": {
        "id": "-rGfNiCY3hn_",
        "colab_type": "code",
        "colab": {}
      },
      "source": [
        "def numbers(list): \n",
        "    l = [str(i) for i in list] \n",
        "    num= int(\"\".join(l)) \n",
        "    return(num)  "
      ],
      "execution_count": 44,
      "outputs": []
    },
    {
      "cell_type": "code",
      "metadata": {
        "id": "nx4p3btsIxBF",
        "colab_type": "code",
        "colab": {
          "base_uri": "https://localhost:8080/",
          "height": 34
        },
        "outputId": "504d2689-6bd0-43f6-b7e2-8b1542b9665c"
      },
      "source": [
        "List_in=[11, 33, 50]\n",
        "print(convert(List_in))"
      ],
      "execution_count": 48,
      "outputs": [
        {
          "output_type": "stream",
          "text": [
            "113350\n"
          ],
          "name": "stdout"
        }
      ]
    },
    {
      "cell_type": "code",
      "metadata": {
        "id": "YPiN263nJk40",
        "colab_type": "code",
        "colab": {}
      },
      "source": [
        "def SubString(string,sub_string):\n",
        "  if string.count(sub_string)>0:\n",
        "    print(\"1\")\n",
        "  else:\n",
        "    print(\"0\")"
      ],
      "execution_count": 70,
      "outputs": []
    },
    {
      "cell_type": "code",
      "metadata": {
        "id": "awERpSuLNO3J",
        "colab_type": "code",
        "colab": {
          "base_uri": "https://localhost:8080/",
          "height": 50
        },
        "outputId": "da48536c-e706-4753-fb8b-1f8796443e54"
      },
      "source": [
        "SubString('101001','10')\n",
        "SubString('10101110','00')"
      ],
      "execution_count": 72,
      "outputs": [
        {
          "output_type": "stream",
          "text": [
            "1\n",
            "0\n"
          ],
          "name": "stdout"
        }
      ]
    },
    {
      "cell_type": "code",
      "metadata": {
        "id": "v3NLomHHRLMl",
        "colab_type": "code",
        "colab": {}
      },
      "source": [
        "class Solution(object):\n",
        "   def longestPalindrome(s):\n",
        "      dp = [[False for i in range(len(s))] for i in range(len(s))]\n",
        "      for i in range(len(s)):\n",
        "         dp[i][i] = True\n",
        "      max_length = 1\n",
        "      start = 0\n",
        "      for l in range(2,len(s)+1):\n",
        "         for i in range(len(s)-l+1):\n",
        "            end = i+l\n",
        "            if l==2:\n",
        "               if s[i] == s[end-1]:\n",
        "                  dp[i][end-1]=True\n",
        "                  max_length = l\n",
        "                  start = i\n",
        "            else:\n",
        "               if s[i] == s[end-1] and dp[i+1][end-2]:\n",
        "                  dp[i][end-1]=True\n",
        "                  max_length = l\n",
        "                  start = i\n",
        "      return s[start:start+max_length]\n"
      ],
      "execution_count": null,
      "outputs": []
    },
    {
      "cell_type": "code",
      "metadata": {
        "id": "fgTpZBm3RQe8",
        "colab_type": "code",
        "colab": {
          "base_uri": "https://localhost:8080/",
          "height": 286
        },
        "outputId": "cd76585b-7e73-42c4-b214-383291741ee1"
      },
      "source": [
        "t=int(input(print(\"No of testcases:\")))\n",
        "i=0\n",
        "while i<t:\n",
        "  a=int(input(print(\"Enter aliters of Water:\")))\n",
        "  b=int(input(print(\"Enter bliters of Water:\")))\n",
        "  c=int(input(print(\"Enter cliters of Water:\")))\n",
        "  if a<c and b<c :\n",
        "    print(\"-1\")\n",
        "  elif a==c or b==c:\n",
        "    print(\"1\")\n",
        "  else:\n",
        "    if a>b:\n",
        "      b=0\n",
        "      c=a-b\n",
        "      if c==a:\n",
        "        print(\"2\")\n",
        "      else:\n",
        "        print(\"3\")\n",
        "  i=i+1\n"
      ],
      "execution_count": 15,
      "outputs": [
        {
          "output_type": "stream",
          "text": [
            "No of testcases:\n",
            "2\n",
            "Enter aliters of Water:\n",
            "5\n",
            "Enter bliters of Water:\n",
            "2\n",
            "Enter cliters of Water:\n",
            "3\n",
            "2\n",
            "Enter aliters of Water:\n",
            "2\n",
            "Enter bliters of Water:\n",
            "3\n",
            "Enter cliters of Water:\n",
            "5\n",
            "-1\n"
          ],
          "name": "stdout"
        }
      ]
    }
  ]
}